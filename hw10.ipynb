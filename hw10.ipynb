{
 "cells": [
  {
   "cell_type": "markdown",
   "metadata": {},
   "source": [
    "\n",
    "# CIS024C - Fall 2017 - Thursday 5:30-9:25pm \n",
    "\n",
    "## Homework 10\n",
    "\n",
    "Homework 10 covers object oriented programming in Python\n",
    "\n",
    "The below sites have some interesting and useful information on working with files\n",
    "\n",
    "https://drive.google.com/open?id=1OrcpXEmhvgcJxSlchIBsvmXST0lG_uKx\n",
    "http://www.tutorialspoint.com/python/python_classes_objects.htm\n",
    "\n",
    "You will need to download this notebook and use this as a starting point for your homework. You will just need to fill in the content of each code-block (cell) and execute. Once you have completed all the exercises, you will need to save and upload this to your github repository under a folder called hw10.\n",
    "\n",
    "Note also the exercises build on top of one another so you might be able to do the next exercise if you have not completed the previous exercise.\n",
    "\n",
    "Post any questions you have on our Slack at **cis-024c1.slack.com**\n",
    "\n",
    "** Slides ** for Week 10 can be found at \n",
    "\n",
    "https://docs.google.com/presentation/d/1AigvCKV1yb3PrrcT5xt3IqyAwGpv6IKMNWYUiQ2Oy6k/edit?usp=sharing\n",
    "\n",
    "**Please refer back to hw1 and slack for instructions on how to setup your computer for developing using Python.**"
   ]
  },
  {
   "cell_type": "markdown",
   "metadata": {},
   "source": [
    "### Helpful Jupyter Commands\n",
    "\n",
    "Below are some useful commands to know when using Jupyter\n",
    "\n",
    "1. You can add a new cell by clicking on the \"+\" icon on top.\n",
    "2. You can delete a cell by selecting that cell and clicking on the \"scissors\" icon on top.\n",
    "3. You can execute a cell by either pressing shift+enter or selecting the \"play\" button on top.\n",
    "4. You can create a new file in Jupyter via the File menu->New Notebook option. Make sure to select Python 2 when creating your notebook.\n",
    "5. Also, for your code blocks make sure that Code is selected instead of another option like Markdown.\n",
    "6. Use the Enter key to go to the next line in a cell to enter the next statement.\n",
    "7. You can clear results by clicking on the Cell menu item and selecting Current Output->Clear or All Output->Clear depending on whether you are trying to just clear the output for one cell or for all cells.\n",
    "8. In case your program has crashed for some reason (infinite loop, for example), you can restart your Python session by select Kernel in the menu and selecting Restart.\n"
   ]
  },
  {
   "cell_type": "markdown",
   "metadata": {},
   "source": [
    "#### Check Python Version"
   ]
  },
  {
   "cell_type": "code",
   "execution_count": 1,
   "metadata": {},
   "outputs": [
    {
     "name": "stdout",
     "output_type": "stream",
     "text": [
      "Python 3.6.2 :: Anaconda custom (64-bit)\r\n"
     ]
    }
   ],
   "source": [
    "!python --version"
   ]
  },
  {
   "cell_type": "markdown",
   "metadata": {},
   "source": [
    "#### Sample Exercises with Exception Handling\n",
    "\n",
    "Week 10 Class Work can be found here\n",
    "\n",
    "https://github.com/cis024c/fall2017classwork/blob/master/week10/week10_classwork.ipynb"
   ]
  },
  {
   "cell_type": "markdown",
   "metadata": {},
   "source": [
    "**Exercise 1 - Testing your knowledge of object oriented programming concepts **\n",
    "\n",
    "Answer the below questions\n",
    "\n",
    "1. Why do we need classes?\n",
    "2. What is encapsulation?"
   ]
  },
  {
   "cell_type": "markdown",
   "metadata": {},
   "source": [
    "1. Using classes, you can add consistency to your programs so that they can be used in a cleaner way. It also shortens the code significantly.\n",
    "\n",
    "2. Procedure and data are stored together. Methods are defined right alongside the data that they operate on and produce. Methods and data can be hidden from the user."
   ]
  },
  {
   "cell_type": "markdown",
   "metadata": {},
   "source": [
    "** Exercise 2 - Class creation **\n",
    "\n",
    "Create a Python class named **Employee** with the following attributes and methods\n",
    "\n",
    "Data members\n",
    "```\n",
    "1. employeeName  - type string\n",
    "2. employeeAge  - type int\n",
    "3. employeeSalary - type float\n",
    "```\n",
    "\n",
    "Methods:\n",
    "```\n",
    "1. getEmployee - returns employee name\n",
    "2. getEmployeeAge - gets the employee age\n",
    "3. getEmployeeSalary - returns the employee salary\n",
    "4. __init__ - initialize method accepts the name, age and salary of the employee\n",
    "```\n",
    "\n",
    "Create an object of type Employee and initialize with arbitrary values. Invoke the get methods and display the result."
   ]
  },
  {
   "cell_type": "code",
   "execution_count": 11,
   "metadata": {},
   "outputs": [
    {
     "name": "stdout",
     "output_type": "stream",
     "text": [
      "Employee Name:  Jill\n",
      "Employee Age:  24\n",
      "Employee Salary:  5000\n"
     ]
    }
   ],
   "source": [
    "### YOUR CODE GOES BELOW\n",
    "class Employee (object):\n",
    "    \n",
    "    def __init__(self, employeeName, employeeAge, employeeSalary):\n",
    "        self.employeeName = employeeName;\n",
    "        self.employeeAge = employeeAge;\n",
    "        self.employeeSalary = employeeSalary;\n",
    "\n",
    "    def getEmployee (self):\n",
    "        return self.employeeName;\n",
    "    \n",
    "    def getEmployeeAge (self):\n",
    "        return self.employeeAge;\n",
    "    \n",
    "    def getEmployeeSalary (self):\n",
    "        return self.employeeSalary;\n",
    "    \n",
    "aEmployee = Employee(\"Jill\", 24, 5000);\n",
    "print (\"Employee Name: \", aEmployee.getEmployee());\n",
    "print (\"Employee Age: \", aEmployee.getEmployeeAge());\n",
    "print (\"Employee Salary: \", aEmployee.getEmployeeSalary());\n",
    "    \n",
    "### END CODE"
   ]
  },
  {
   "cell_type": "markdown",
   "metadata": {},
   "source": [
    "#### Exercise 3 - Private members\n",
    "\n",
    "In the above **Employee** class make the employeeName, employeeAge and employeeSalary private so that their access is restricted to only within the class."
   ]
  },
  {
   "cell_type": "code",
   "execution_count": 7,
   "metadata": {
    "collapsed": true
   },
   "outputs": [],
   "source": [
    "### YOUR CODE GOES BELOW\n",
    "class Employee (object):\n",
    "    \n",
    "    def __init__(self):\n",
    "        self.__employeeName = employeeName;\n",
    "        self.__employeeAge = employeeAge;\n",
    "        self.__employeeSalary = employeeSalary;\n",
    "\n",
    "    def getEmployee (self):\n",
    "        return self.__employeeName;\n",
    "    \n",
    "    def getEmployeeAge (self):\n",
    "        return self.__employeeAge;\n",
    "    \n",
    "    def getEmployeeSalary (self):\n",
    "        return self.__employeeSalary;\n",
    "\n",
    "### END CODE"
   ]
  },
  {
   "cell_type": "markdown",
   "metadata": {},
   "source": [
    "#### Exercise 4 - Adding setters and working with a list of Employees\n",
    "\n",
    "In the **Employee** class add the following methods\n",
    "\n",
    "```\n",
    "1. setEmployeeAge - accepts age and sets it in the object\n",
    "2. setEmployeeName - accepts employee name and sets it in the object\n",
    "3. setEmployeeSalary - accepts employee salary and sets it i nthe object\n",
    "```\n",
    "\n",
    "Create a list of employees called employeeList. Initialize the list with three objects of type Employee. Initialize the object with the values \"None\" for employeeName, 0 for employeeAge and 0 for employeeSalary.\n",
    "\n",
    "Loop  through each employee in the employeeList. Each time, request the user to enter the name, age and salary of a different employee. Use the set methods to set the name, age and salary for each employee in the employeeList.\n",
    "\n",
    "Loop through each employee in the employeeList. Display the name, age and salary of each employee."
   ]
  },
  {
   "cell_type": "code",
   "execution_count": 4,
   "metadata": {},
   "outputs": [
    {
     "name": "stdout",
     "output_type": "stream",
     "text": [
      "Enter the employee's name: Jill S\n",
      "Enter the employee's age: 24\n",
      "Enter the employee's salary: 5000\n",
      "Enter the employee's name: David W\n",
      "Enter the employee's age: 25\n",
      "Enter the employee's salary: 6000\n",
      "\n",
      "\n",
      "Employee Name:  Jill S\n",
      "Employee Age:  24\n",
      "Employee Salary:  5000\n",
      "\n",
      "\n",
      "Employee Name:  David W\n",
      "Employee Age:  25\n",
      "Employee Salary:  6000\n"
     ]
    }
   ],
   "source": [
    "### YOUR CODE GOES BELOW\n",
    "class Employee (object):\n",
    "    \n",
    "    def __init__(self):\n",
    "        self.__employeeName = None;\n",
    "        self.__employeeAge = 0;\n",
    "        self.__employeeSalary = 0;\n",
    "    \n",
    "    def __str__ (self):\n",
    "        return \"Name: \" + self.employeeName + \"\\nAge: \" + self.employeeAge + \"\\nSalary: \" + self.employeeSalary;\n",
    "\n",
    "    def getEmployee (self):\n",
    "        print(\"Employee Name: \", self.__employeeName);\n",
    "    \n",
    "    def getEmployeeAge (self):\n",
    "        print(\"Employee Age: \", self.__employeeAge);\n",
    "    \n",
    "    def getEmployeeSalary (self):\n",
    "        print(\"Employee Salary: \", self.__employeeSalary);\n",
    "        \n",
    "    def setEmployeeName (self):\n",
    "        self.__employeeName = input(\"Enter the employee's name: \");\n",
    "    \n",
    "    def setEmployeeAge (self):\n",
    "        self.__employeeAge = int(input(\"Enter the employee's age: \"));\n",
    "    \n",
    "    def setEmployeeSalary (self):\n",
    "        self.__employeeSalary = int(input(\"Enter the employee's salary: \"));\n",
    "\n",
    "employeeList = [];\n",
    "\n",
    "for index in range(2):\n",
    "    temp = Employee();\n",
    "    temp.setEmployeeName();\n",
    "    temp.setEmployeeAge();\n",
    "    temp.setEmployeeSalary();\n",
    "    employeeList.append(temp);\n",
    "\n",
    "for indexx in range(len(employeeList)):\n",
    "    print (\"\\n\");\n",
    "    employeeList[indexx].getEmployee();\n",
    "    employeeList[indexx].getEmployeeAge();\n",
    "    employeeList[indexx].getEmployeeSalary();\n",
    "    \n",
    "    \n",
    "### END CODE"
   ]
  },
  {
   "cell_type": "code",
   "execution_count": 7,
   "metadata": {},
   "outputs": [
    {
     "name": "stdout",
     "output_type": "stream",
     "text": [
      "Enter the employee's name: Jill S\n",
      "Enter the employee's age: 24\n",
      "Enter the employee's salary: 5000\n",
      "Enter the employee's name: David W\n",
      "Enter the employee's age: 25\n",
      "Enter the employee's salary: 6000\n",
      "\n",
      "\n",
      "Employee Name:  Jill S\n",
      "Employee Age:  24\n",
      "Employee Salary 5000\n",
      "\n",
      "\n",
      "Employee Name:  David W\n",
      "Employee Age:  25\n",
      "Employee Salary 6000\n"
     ]
    }
   ],
   "source": [
    "### YOUR CODE GOES BELOW\n",
    "class Employee (object):\n",
    "    \n",
    "    def __init__(self):\n",
    "        self.__employeeName = None;\n",
    "        self.__employeeAge = 0;\n",
    "        self.__employeeSalary = 0;\n",
    "    \n",
    "    def __str__ (self):\n",
    "        return \"Name: \" + self.employeeName + \"\\nAge: \" + self.employeeAge + \"\\nSalary: \" + self.employeeSalary;\n",
    "\n",
    "    def getEmployee (self):\n",
    "        return self.__employeeName;\n",
    "    \n",
    "    def getEmployeeAge (self):\n",
    "        return self.__employeeAge;\n",
    "    \n",
    "    def getEmployeeSalary (self):\n",
    "        return self.__employeeSalary;\n",
    "        \n",
    "    def setEmployeeName (self):\n",
    "        self.__employeeName = input(\"Enter the employee's name: \");\n",
    "    \n",
    "    def setEmployeeAge (self):\n",
    "        self.__employeeAge = int(input(\"Enter the employee's age: \"));\n",
    "    \n",
    "    def setEmployeeSalary (self):\n",
    "        self.__employeeSalary = int(input(\"Enter the employee's salary: \"));\n",
    "\n",
    "employeeList = [];\n",
    "\n",
    "for index in range(2):\n",
    "    temp = Employee();\n",
    "    temp.setEmployeeName();\n",
    "    temp.setEmployeeAge();\n",
    "    temp.setEmployeeSalary();\n",
    "    employeeList.append(temp);\n",
    "\n",
    "for indexx in range(len(employeeList)):\n",
    "    print(\"\\n\");\n",
    "    print(\"Employee Name: \", employeeList[indexx].getEmployee());\n",
    "    print(\"Employee Age: \", employeeList[indexx].getEmployeeAge());\n",
    "    print(\"Employee Salary\", employeeList[indexx].getEmployeeSalary());\n",
    "    \n",
    "    \n",
    "### END CODE"
   ]
  },
  {
   "cell_type": "markdown",
   "metadata": {},
   "source": [
    "#### Exercise 5 -  Creating a Python calculator class\n",
    "\n",
    "Create a Python class called Calculator. \n",
    "\n",
    "The class has the following data members\n",
    "\n",
    "```\n",
    "1. number1 - type float\n",
    "2. number2 - type float\n",
    "```\n",
    "\n",
    "The class must have the below methods\n",
    "\n",
    "```\n",
    "1. add - adds two numbers and returns the result\n",
    "2. subtract - subtracts the first number from the second number and returns the result\n",
    "3. multiply - multiply two numbers and returns the result\n",
    "4. divide - divide the first number by the second number and returns the result\n",
    "5. __init__ - accepts two numbers and uses those numbers to initialize number1 and number2 respectively\n",
    "```\n",
    "\n",
    "Create an object of the Calculator class. Initialize it with any two arbitrary numbers. Invoke the methods add, subtract, multiple and divide and display the result\n",
    "\n",
    "\n"
   ]
  },
  {
   "cell_type": "code",
   "execution_count": 8,
   "metadata": {},
   "outputs": [
    {
     "name": "stdout",
     "output_type": "stream",
     "text": [
      "6.8301938405073646 is the first number\n",
      "3.8805135500751047 is the second number \n",
      "\n",
      "Add:  10.710707390582469\n",
      "Substract:  2.94968029043226\n",
      "Multiply:  26.504659747728347\n",
      "Divide:  1.7601262699817581\n"
     ]
    }
   ],
   "source": [
    "### YOUR CODE GOES \n",
    "\n",
    "import numpy as np\n",
    "\n",
    "class Calculator (object):\n",
    "    def __init__ (self, number1, number2):\n",
    "        self.__number1 = float(number1)\n",
    "        self.__number2 = float(number2)\n",
    "\n",
    "    def add (self):\n",
    "        return (self.__number1 + self.__number2)\n",
    "  \n",
    "    def subtract (self):\n",
    "        return (self.__number1 - self.__number2)\n",
    "    \n",
    "    def multiply (self):\n",
    "        return (self.__number1 * self.__number2)\n",
    "  \n",
    "    def divide (self):\n",
    "        return (self.__number1 / self.__number2)\n",
    "    \n",
    "    \n",
    "number1 = np.random.uniform(1,10)\n",
    "number2 = np.random.uniform(1,10)\n",
    "\n",
    "print(number1, \"is the first number\")\n",
    "print(number2, \"is the second number\", \"\\n\")\n",
    "\n",
    "calculator = Calculator(number1,number2)\n",
    "\n",
    "print(\"Add: \", calculator.add())\n",
    "print(\"Substract: \", calculator.subtract())\n",
    "print(\"Multiply: \", calculator.multiply())\n",
    "print(\"Divide: \", calculator.divide())\n",
    "### END CODE"
   ]
  }
 ],
 "metadata": {
  "kernelspec": {
   "display_name": "Python 3",
   "language": "python",
   "name": "python3"
  },
  "language_info": {
   "codemirror_mode": {
    "name": "ipython",
    "version": 3
   },
   "file_extension": ".py",
   "mimetype": "text/x-python",
   "name": "python",
   "nbconvert_exporter": "python",
   "pygments_lexer": "ipython3",
   "version": "3.6.2"
  }
 },
 "nbformat": 4,
 "nbformat_minor": 2
}
