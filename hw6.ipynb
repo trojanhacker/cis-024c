{
 "cells": [
  {
   "cell_type": "markdown",
   "metadata": {},
   "source": [
    "\n",
    "# CIS024C - Fall 2017 - Thursday 5:30-9:25pm \n",
    "\n",
    "## Homework 6\n",
    "\n",
    "Homework 6 covers exercises that involve working with functions\n",
    "\n",
    "The below sites have some interesting and useful information on working with files\n",
    "\n",
    "https://www.learnpython.org/en/Functions\n",
    "https://www.tutorialspoint.com/python/python_functions.htm\n",
    "\n",
    "You will need to download this notebook and use this as a starting point for your homework. You will just need to fill in the content of each code-block (cell) and execute. Once you have completed all the exercises, you will need to save and upload this to your github repository under a folder called hw5.\n",
    "\n",
    "Note also the exercises build on top of one another so you might be able to do the next exercise if you have not completed the previous exercise.\n",
    "\n",
    "Post any questions you have on our Slack at **cis-024c1.slack.com**\n",
    "\n",
    "** Slides ** for Week 6 can be found at \n",
    "\n",
    "https://docs.google.com/presentation/d/1XGV2NR0ZAAmQYjlRuy81zzlW2g5lWS8L6a7iRV-lreQ/edit?usp=sharing\n",
    "\n",
    "**Please refer back to hw1 and slack for instructions on how to setup your computer for developing using Python.**"
   ]
  },
  {
   "cell_type": "markdown",
   "metadata": {},
   "source": [
    "### Helpful Jupyter Commands\n",
    "\n",
    "Below are some useful commands to know when using Jupyter\n",
    "\n",
    "1. You can add a new cell by clicking on the \"+\" icon on top.\n",
    "2. You can delete a cell by selecting that cell and clicking on the \"scissors\" icon on top.\n",
    "3. You can execute a cell by either pressing shift+enter or selecting the \"play\" button on top.\n",
    "4. You can create a new file in Jupyter via the File menu->New Notebook option. Make sure to select Python 2 when creating your notebook.\n",
    "5. Also, for your code blocks make sure that Code is selected instead of another option like Markdown.\n",
    "6. Use the Enter key to go to the next line in a cell to enter the next statement.\n",
    "7. You can clear results by clicking on the Cell menu item and selecting Current Output->Clear or All Output->Clear depending on whether you are trying to just clear the output for one cell or for all cells.\n",
    "8. In case your program has crashed for some reason (infinite loop, for example), you can restart your Python session by select Kernel in the menu and selecting Restart.\n"
   ]
  },
  {
   "cell_type": "markdown",
   "metadata": {},
   "source": [
    "#### Check Python Version"
   ]
  },
  {
   "cell_type": "code",
   "execution_count": 1,
   "metadata": {},
   "outputs": [
    {
     "name": "stdout",
     "output_type": "stream",
     "text": [
      "Python 3.6.2 :: Anaconda, Inc.\r\n"
     ]
    }
   ],
   "source": [
    "!python --version"
   ]
  },
  {
   "cell_type": "markdown",
   "metadata": {},
   "source": [
    "#### Sample Exercises with Functions\n",
    "\n",
    "Refer to Week 6 slides for a recap of what happened in Week 6\n",
    "\n",
    "https://docs.google.com/presentation/d/1XGV2NR0ZAAmQYjlRuy81zzlW2g5lWS8L6a7iRV-lreQ/edit?usp=sharing"
   ]
  },
  {
   "cell_type": "markdown",
   "metadata": {},
   "source": [
    "**Exercise 1 - Testing your knowledge of functions **\n",
    "\n",
    "Answer the below questions\n",
    "\n",
    "1. What is a function in Python?\n",
    "2. What are the advantages of using functions?"
   ]
  },
  {
   "cell_type": "markdown",
   "metadata": {},
   "source": [
    "1. A block of reuseable code that can be exexcuted by invoking the function when required\n",
    "2. For reusability, so we don't have to write the same code again when we need to perform the same task."
   ]
  },
  {
   "cell_type": "markdown",
   "metadata": {},
   "source": [
    "#### Exercise 2 -  Max of three numbers\n",
    "\n",
    "Write a Python function to find the Max of three numbers.\n",
    "\n",
    "Make sure you invoke this function in your main program and display the result"
   ]
  },
  {
   "cell_type": "code",
   "execution_count": 17,
   "metadata": {},
   "outputs": [
    {
     "name": "stdout",
     "output_type": "stream",
     "text": [
      "Enter three numbers separated by commas: 34,56,79\n",
      "The max of three numbers is: 79\n"
     ]
    }
   ],
   "source": [
    "### YOUR CODE GOES \n",
    "three_nums = input (\"Enter three numbers separated by commas: \");\n",
    "\n",
    "def maxNum (nums):\n",
    "    num_list = nums.split(\",\");\n",
    "    max_num = 0;\n",
    "\n",
    "    for index in range(len(num_list)):\n",
    "        if ( int(num_list[index]) > max_num ):\n",
    "            max_num = int(num_list[index]);\n",
    "    return max_num;\n",
    "\n",
    "print (\"The max of three numbers is: %s\" % (maxNum(three_nums)));\n",
    "\n",
    "### END CODE"
   ]
  },
  {
   "cell_type": "markdown",
   "metadata": {},
   "source": [
    "#### Exercise 3 - Finding the sum of numbers in a list\n",
    "\n",
    "Write a Python function to sum all the numbers in a list\n",
    "\n",
    "Make sure you invoke this function in your main program and display the result"
   ]
  },
  {
   "cell_type": "code",
   "execution_count": 21,
   "metadata": {},
   "outputs": [
    {
     "name": "stdout",
     "output_type": "stream",
     "text": [
      "Enter numbers separated by commas: 10,10,10,10,10,50\n",
      "Sum of all the numbers is:  100\n"
     ]
    }
   ],
   "source": [
    "### YOUR CODE GOES BELOW\n",
    "sum_nums = input (\"Enter numbers separated by commas: \");\n",
    "\n",
    "def numSum (num_list):\n",
    "    num_list = num_list.split(\",\");\n",
    "    sum_num = 0;\n",
    "    for index in range(len(num_list)):\n",
    "        sum_num += int(num_list[index]);\n",
    "    return sum_num;\n",
    "\n",
    "print (\"Sum of all the numbers is: \", numSum(sum_nums));\n",
    "### END CODE"
   ]
  },
  {
   "cell_type": "markdown",
   "metadata": {},
   "source": [
    "#### Exercise 4 - Finding the product of numbers in a list\n",
    "\n",
    "Write a Python function to multiply all the numbers in a list\n",
    "\n",
    "Make sure you invoke this function in your main program and display the result"
   ]
  },
  {
   "cell_type": "code",
   "execution_count": 29,
   "metadata": {},
   "outputs": [
    {
     "name": "stdout",
     "output_type": "stream",
     "text": [
      "Enter numbers separated by commas: 1,2\n",
      "The product of all numbers entered is:  2\n"
     ]
    }
   ],
   "source": [
    "### YOUR CODE GOES BELOW\n",
    "prod_list = input (\"Enter numbers separated by commas: \");\n",
    "\n",
    "def prodSum (prod_list):\n",
    "    prod_list = prod_list.split(\",\");\n",
    "    prod_sum = 1;\n",
    "    for index in range(len(prod_list)):\n",
    "        if ( len(prod_list) == 1 ):\n",
    "            print (\"Only one number entered\");\n",
    "            return 0;\n",
    "        prod_sum *= int(prod_list[index]);\n",
    "    return prod_sum;\n",
    "\n",
    "print (\"The product of all numbers entered is: \", prodSum(prod_list));\n",
    "### END CODE"
   ]
  },
  {
   "cell_type": "markdown",
   "metadata": {},
   "source": [
    "#### Exercise 5 - Reversing a String\n",
    "\n",
    "Write a Python function to reverse a string\n",
    "\n",
    "Make sure you invoke this function in your main program and display the result"
   ]
  },
  {
   "cell_type": "code",
   "execution_count": 32,
   "metadata": {},
   "outputs": [
    {
     "name": "stdout",
     "output_type": "stream",
     "text": [
      "Enter a string: Jack and Jill went up the hill\n",
      "The string in reverse order is:  llih eht pu tnew lliJ dna kcaJ\n"
     ]
    }
   ],
   "source": [
    "### YOUR CODE GOES BELOW\n",
    "string = input (\"Enter a string: \");\n",
    "\n",
    "def revStr (string):\n",
    "    return string[::-1];\n",
    "\n",
    "print (\"The string in reverse order is: \", revStr(string));\n",
    "### END CODE"
   ]
  },
  {
   "cell_type": "code",
   "execution_count": 76,
   "metadata": {},
   "outputs": [
    {
     "name": "stdout",
     "output_type": "stream",
     "text": [
      "Enter a string: Jack and Jill went up the hill\n",
      "String Length:  30\n",
      "The string in reverse order is: llih eht pu tnew lliJ dna kcaJ"
     ]
    }
   ],
   "source": [
    "### YOUR CODE GOES BELOW\n",
    "string = input (\"Enter a string: \");\n",
    "\n",
    "def revStr (string):\n",
    "    new_string = [];\n",
    "    string_len = len(string);\n",
    "    print (\"String Length: \", string_len);\n",
    "    for index in range(len(string)):\n",
    "        string_len -= 1;\n",
    "        new_string.append(string[string_len]);\n",
    "    printStr (new_string);\n",
    "    return;\n",
    "\n",
    "def printStr (string):\n",
    "    print (\"The string in reverse order is: \", end=\"\");\n",
    "    for index in range(len(string)):\n",
    "        print (string[index], end=\"\");\n",
    "    return;\n",
    "\n",
    "revStr (string);\n",
    "### END CODE"
   ]
  },
  {
   "cell_type": "markdown",
   "metadata": {},
   "source": [
    "## OPTIONAL EXERCISES\n",
    "\n",
    "Below is a set of optional exercises. These will not be graded but the solutions will be posted. I would strongly encourage you to try these out if you are done with the mandatory homework exercises to improve your understanding of python."
   ]
  },
  {
   "cell_type": "markdown",
   "metadata": {},
   "source": [
    "#### Exercise 6\n",
    "\n",
    "Write a Python function that accepts a string and calculate the number of upper case letters and lower case letters.\n",
    "\n",
    "Make sure you invoke this function in your main program and display the result"
   ]
  },
  {
   "cell_type": "code",
   "execution_count": 7,
   "metadata": {},
   "outputs": [
    {
     "name": "stdout",
     "output_type": "stream",
     "text": [
      "Enter a string: jaCk and JiLl went uP the HilL\n",
      "The number of upper case letter is:  6\n",
      "The number of lower case letter is:  18\n"
     ]
    }
   ],
   "source": [
    "### YOUR CODE GOES BELOW\n",
    "string = input (\"Enter a string: \");\n",
    "\n",
    "def caseCount (string):\n",
    "    string_len = len(string);\n",
    "    upper_count = 0;\n",
    "    lower_count = 0;\n",
    "\n",
    "    for i in range(len(string)):\n",
    "        if (string[i].isupper() == 1):\n",
    "            upper_count += 1;\n",
    "\n",
    "    for j in range(len(string)):\n",
    "        if (string[j].islower() == 1):\n",
    "            lower_count += 1;\n",
    "\n",
    "    print (\"The number of upper case letter is: \", upper_count);\n",
    "    print (\"The number of lower case letter is: \", lower_count);\n",
    "    return;\n",
    "\n",
    "caseCount (string);\n",
    "### END CODE"
   ]
  },
  {
   "cell_type": "markdown",
   "metadata": {},
   "source": [
    "#### Exercise 7\n",
    "\n",
    " Write a Python function to print the even numbers from a given list..\n",
    " \n",
    " Make sure you invoke this function in your main program and display the result"
   ]
  },
  {
   "cell_type": "code",
   "execution_count": 12,
   "metadata": {},
   "outputs": [
    {
     "name": "stdout",
     "output_type": "stream",
     "text": [
      "Enter a list separated by commas: 1,2,3,4,5,6,7,8,9,10\n",
      "The even numbers from a list is: 2 4 6 8 10 "
     ]
    }
   ],
   "source": [
    "### YOUR CODE GOES BELOW\n",
    "list = input (\"Enter a list separated by commas: \");\n",
    "\n",
    "def printEven (list):\n",
    "    list = list.split(\",\");\n",
    "    print (\"The even numbers from a list is: \", end=\"\");\n",
    "    for index in list[1::2]:\n",
    "        print (index, end=\" \");\n",
    "    return;\n",
    "\n",
    "printEven (list);\n",
    "### END CODE"
   ]
  },
  {
   "cell_type": "code",
   "execution_count": 31,
   "metadata": {},
   "outputs": [
    {
     "name": "stdout",
     "output_type": "stream",
     "text": [
      "Enter a list separated by commas: Jack,and,Jill,went,up,the,hill,at,Night\n",
      "The even numbers from a list is: and went the at "
     ]
    }
   ],
   "source": [
    "### YOUR CODE GOES BELOW\n",
    "list = input (\"Enter a list separated by commas: \");\n",
    "\n",
    "def printEven (list):\n",
    "    list = list.split(\",\");\n",
    "    print (\"The even numbers from a list is: \", end=\"\");\n",
    "    for index in range(len(list)):\n",
    "        if ( (index % 2) != 0 ):\n",
    "            print (list[index], end=\" \");\n",
    "    return;\n",
    "\n",
    "printEven (list);\n",
    "### END CODE"
   ]
  },
  {
   "cell_type": "markdown",
   "metadata": {},
   "source": [
    "#### Exercise 8\n",
    "\n",
    "Write a Python function that checks whether a passed string is palindrome or not.\n",
    "\n",
    "Make sure you invoke this function in your main program and display the result"
   ]
  },
  {
   "cell_type": "code",
   "execution_count": 3,
   "metadata": {},
   "outputs": [
    {
     "name": "stdout",
     "output_type": "stream",
     "text": [
      "Enter a string (type \"quit\" to exit the program): A man, a plan, a canal: Panama\n",
      "The string is palindrome\n",
      "Enter a string (type \"quit\" to exit the program): A Toyota's a Toyota.\n",
      "The string is palindrome\n",
      "Enter a string (type \"quit\" to exit the program): Jack and Jill went up the hill\n",
      "The string is not palindrome\n",
      "Enter a string (type \"quit\" to exit the program): Amore, Roma.\n",
      "The string is palindrome\n",
      "Enter a string (type \"quit\" to exit the program): quit\n"
     ]
    }
   ],
   "source": [
    "### YOUR CODE GOES BELOW\n",
    "def palindrome (string):\n",
    "    new_list = [];\n",
    "    palindrome_check = 0;\n",
    "    \n",
    "    for index in range(len(string)):\n",
    "        if ( string[index].isalnum() == 1 ):\n",
    "            new_list.append(string[index].lower());\n",
    "    \n",
    "    string_length = len(new_list);\n",
    "            \n",
    "    for i in range(len(new_list)):\n",
    "        if ( new_list[i] != new_list[string_length-1] ):\n",
    "            print (\"The string is not palindrome\");\n",
    "            return;\n",
    "        string_length -= 1;\n",
    "    \n",
    "    print (\"The string is palindrome\");\n",
    "    return;\n",
    "\n",
    "while (True):\n",
    "    string = input (\"Enter a string (type \\\"quit\\\" to exit the program): \");\n",
    "    if ( string != \"quit\" ):\n",
    "        palindrome(string);\n",
    "    else:\n",
    "        break;\n",
    "### END CODE"
   ]
  },
  {
   "cell_type": "markdown",
   "metadata": {
    "collapsed": true
   },
   "source": [
    "#### Exercise 9\n",
    "\n",
    "Write a recursive Python program to compute the result of fibonacci series. \n",
    "\n",
    "This is what a fibonacci series is https://www.mathsisfun.com/numbers/fibonacci-sequence.html\n",
    "\n",
    "Make sure you invoke this function in your main program and display the result"
   ]
  },
  {
   "cell_type": "code",
   "execution_count": 7,
   "metadata": {
    "scrolled": true
   },
   "outputs": [
    {
     "name": "stdout",
     "output_type": "stream",
     "text": [
      "The fibonacci series is:  [0, 1, 1, 2, 3, 5, 8, 13, 21, 34, 55, 89, 144, 233, 377, 610, 987, 1597, 2584, 4181, 6765, 10946, 17711, 28657, 46368, 75025, 121393, 196418, 317811, 514229, 832040, 1346269, 2178309, 3524578, 5702887, 9227465, 14930352, 24157817, 39088169, 63245986, 102334155, 165580141, 267914296, 433494437, 701408733, 1134903170, 1836311903, 2971215073, 4807526976, 7778742049, 12586269025, 20365011074]\n"
     ]
    }
   ],
   "source": [
    "### YOUR CODE GOES BELOW\n",
    "fib_num_list = [0,1];\n",
    "\n",
    "def fibNum (num1, num2):\n",
    "    return (num1 + num2);\n",
    "\n",
    "for index in range(50):\n",
    "    fib_num_list.append(fibNum(fib_num_list[index], fib_num_list[index+1]));\n",
    "\n",
    "print (\"The fibonacci series is: \", fib_num_list);\n",
    "### END CODE"
   ]
  },
  {
   "cell_type": "markdown",
   "metadata": {},
   "source": [
    "#### Exercise 10\n",
    "\n",
    "Write a python program to autocorrect user input using the edit distance method. \n",
    "\n",
    "Make sure you invoke this function in your main program and display the result"
   ]
  },
  {
   "cell_type": "code",
   "execution_count": null,
   "metadata": {
    "collapsed": true
   },
   "outputs": [],
   "source": [
    "### YOUR CODE GOES BELOW\n",
    "\n",
    "\n",
    "### END CODE"
   ]
  }
 ],
 "metadata": {
  "kernelspec": {
   "display_name": "Python 3",
   "language": "python",
   "name": "python3"
  }
 },
 "nbformat": 4,
 "nbformat_minor": 2
}
